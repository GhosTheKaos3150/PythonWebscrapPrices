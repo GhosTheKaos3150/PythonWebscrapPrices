{
 "cells": [
  {
   "cell_type": "code",
   "execution_count": 1,
   "metadata": {},
   "outputs": [],
   "source": [
    "import pandas as pd\n",
    "\n",
    "from selenium import webdriver\n",
    "from selenium.webdriver.common.by import By\n",
    "from selenium.webdriver.support.wait import WebDriverWait"
   ]
  },
  {
   "cell_type": "markdown",
   "metadata": {
    "slideshow": {
     "slide_type": "notes"
    }
   },
   "source": [
    "## QUAL A IDEIA\n",
    "+ Entrar no site\n",
    "+ Pesquisar por Notebook\n",
    "+ Pegar todos os resultados da primeira página\n",
    "+ Abrir cada resultado e extrair:\n",
    "    1. Nome\n",
    "    2. Preço a vista\n",
    "    3. Preço a prazo"
   ]
  },
  {
   "cell_type": "code",
   "execution_count": 18,
   "metadata": {},
   "outputs": [
    {
     "ename": "NoSuchElementException",
     "evalue": "Message: no such element: Unable to locate element: {\"method\":\"tag name\",\"selector\":\"span\"}\n  (Session info: chrome=117.0.5938.89); For documentation on this error, please visit: https://www.selenium.dev/documentation/webdriver/troubleshooting/errors#no-such-element-exception\nStacktrace:\n\tGetHandleVerifier [0x00007FF6C54478A2+54818]\n\t(No symbol) [0x00007FF6C53B6AD2]\n\t(No symbol) [0x00007FF6C526DA3B]\n\t(No symbol) [0x00007FF6C52AE4FC]\n\t(No symbol) [0x00007FF6C52AE67C]\n\t(No symbol) [0x00007FF6C52A50FC]\n\t(No symbol) [0x00007FF6C52CEAEF]\n\t(No symbol) [0x00007FF6C52A5036]\n\t(No symbol) [0x00007FF6C52CECC0]\n\t(No symbol) [0x00007FF6C52E75A2]\n\t(No symbol) [0x00007FF6C52CE883]\n\t(No symbol) [0x00007FF6C52A3691]\n\t(No symbol) [0x00007FF6C52A48D4]\n\tGetHandleVerifier [0x00007FF6C57AB9A2+3610402]\n\tGetHandleVerifier [0x00007FF6C5801870+3962352]\n\tGetHandleVerifier [0x00007FF6C57F9D5F+3930847]\n\tGetHandleVerifier [0x00007FF6C54E3656+693206]\n\t(No symbol) [0x00007FF6C53C1638]\n\t(No symbol) [0x00007FF6C53BD944]\n\t(No symbol) [0x00007FF6C53BDA72]\n\t(No symbol) [0x00007FF6C53AE123]\n\tBaseThreadInitThunk [0x00007FFBCFE87614+20]\n\tRtlUserThreadStart [0x00007FFBD04C26B1+33]\n",
     "output_type": "error",
     "traceback": [
      "\u001b[1;31m---------------------------------------------------------------------------\u001b[0m",
      "\u001b[1;31mNoSuchElementException\u001b[0m                    Traceback (most recent call last)",
      "\u001b[1;32md:\\Uriel Arquivos\\Arquivos de Trabalho\\Portfolio\\Webscraping1\\webscraping_prices.ipynb Cell 3\u001b[0m line \u001b[0;36m2\n\u001b[0;32m     <a href='vscode-notebook-cell:/d%3A/Uriel%20Arquivos/Arquivos%20de%20Trabalho/Portfolio/Webscraping1/webscraping_prices.ipynb#W1sZmlsZQ%3D%3D?line=21'>22</a>\u001b[0m \u001b[39mfor\u001b[39;00m elm \u001b[39min\u001b[39;00m elms:\n\u001b[0;32m     <a href='vscode-notebook-cell:/d%3A/Uriel%20Arquivos/Arquivos%20de%20Trabalho/Portfolio/Webscraping1/webscraping_prices.ipynb#W1sZmlsZQ%3D%3D?line=22'>23</a>\u001b[0m     americanas_df[\u001b[39m\"\u001b[39m\u001b[39mname\u001b[39m\u001b[39m\"\u001b[39m]\u001b[39m.\u001b[39mappend(elm\u001b[39m.\u001b[39mfind_element(By\u001b[39m.\u001b[39mCLASS_NAME, \u001b[39m'\u001b[39m\u001b[39mgUjFDF\u001b[39m\u001b[39m'\u001b[39m)\u001b[39m.\u001b[39mget_attribute(\u001b[39m'\u001b[39m\u001b[39minnerHTML\u001b[39m\u001b[39m'\u001b[39m))\n\u001b[1;32m---> <a href='vscode-notebook-cell:/d%3A/Uriel%20Arquivos/Arquivos%20de%20Trabalho/Portfolio/Webscraping1/webscraping_prices.ipynb#W1sZmlsZQ%3D%3D?line=23'>24</a>\u001b[0m     americanas_df[\u001b[39m\"\u001b[39m\u001b[39mdebit_price\u001b[39m\u001b[39m\"\u001b[39m]\u001b[39m.\u001b[39mappend(elm\u001b[39m.\u001b[39;49mfind_element(By\u001b[39m.\u001b[39;49mCLASS_NAME, \u001b[39m'\u001b[39;49m\u001b[39mjxda-Dt\u001b[39;49m\u001b[39m'\u001b[39;49m)\u001b[39m.\u001b[39;49mfind_element(By\u001b[39m.\u001b[39;49mTAG_NAME, \u001b[39m\"\u001b[39;49m\u001b[39mspan\u001b[39;49m\u001b[39m\"\u001b[39;49m)\u001b[39m.\u001b[39mget_attribute(\u001b[39m'\u001b[39m\u001b[39minnerHTML\u001b[39m\u001b[39m'\u001b[39m))\n\u001b[0;32m     <a href='vscode-notebook-cell:/d%3A/Uriel%20Arquivos/Arquivos%20de%20Trabalho/Portfolio/Webscraping1/webscraping_prices.ipynb#W1sZmlsZQ%3D%3D?line=24'>25</a>\u001b[0m     americanas_df[\u001b[39m\"\u001b[39m\u001b[39mcredit_price\u001b[39m\u001b[39m\"\u001b[39m]\u001b[39m.\u001b[39mappend(elm\u001b[39m.\u001b[39mfind_element(By\u001b[39m.\u001b[39mCLASS_NAME, \u001b[39m'\u001b[39m\u001b[39mliXDNM\u001b[39m\u001b[39m'\u001b[39m)\u001b[39m.\u001b[39mget_attribute(\u001b[39m'\u001b[39m\u001b[39minnerHTML\u001b[39m\u001b[39m'\u001b[39m))\n",
      "File \u001b[1;32mc:\\Users\\uriel\\anaconda3\\envs\\edson-app\\lib\\site-packages\\selenium\\webdriver\\remote\\webelement.py:416\u001b[0m, in \u001b[0;36mWebElement.find_element\u001b[1;34m(self, by, value)\u001b[0m\n\u001b[0;32m    413\u001b[0m     by \u001b[39m=\u001b[39m By\u001b[39m.\u001b[39mCSS_SELECTOR\n\u001b[0;32m    414\u001b[0m     value \u001b[39m=\u001b[39m \u001b[39mf\u001b[39m\u001b[39m'\u001b[39m\u001b[39m[name=\u001b[39m\u001b[39m\"\u001b[39m\u001b[39m{\u001b[39;00mvalue\u001b[39m}\u001b[39;00m\u001b[39m\"\u001b[39m\u001b[39m]\u001b[39m\u001b[39m'\u001b[39m\n\u001b[1;32m--> 416\u001b[0m \u001b[39mreturn\u001b[39;00m \u001b[39mself\u001b[39;49m\u001b[39m.\u001b[39;49m_execute(Command\u001b[39m.\u001b[39;49mFIND_CHILD_ELEMENT, {\u001b[39m\"\u001b[39;49m\u001b[39musing\u001b[39;49m\u001b[39m\"\u001b[39;49m: by, \u001b[39m\"\u001b[39;49m\u001b[39mvalue\u001b[39;49m\u001b[39m\"\u001b[39;49m: value})[\u001b[39m\"\u001b[39m\u001b[39mvalue\u001b[39m\u001b[39m\"\u001b[39m]\n",
      "File \u001b[1;32mc:\\Users\\uriel\\anaconda3\\envs\\edson-app\\lib\\site-packages\\selenium\\webdriver\\remote\\webelement.py:394\u001b[0m, in \u001b[0;36mWebElement._execute\u001b[1;34m(self, command, params)\u001b[0m\n\u001b[0;32m    392\u001b[0m     params \u001b[39m=\u001b[39m {}\n\u001b[0;32m    393\u001b[0m params[\u001b[39m\"\u001b[39m\u001b[39mid\u001b[39m\u001b[39m\"\u001b[39m] \u001b[39m=\u001b[39m \u001b[39mself\u001b[39m\u001b[39m.\u001b[39m_id\n\u001b[1;32m--> 394\u001b[0m \u001b[39mreturn\u001b[39;00m \u001b[39mself\u001b[39;49m\u001b[39m.\u001b[39;49m_parent\u001b[39m.\u001b[39;49mexecute(command, params)\n",
      "File \u001b[1;32mc:\\Users\\uriel\\anaconda3\\envs\\edson-app\\lib\\site-packages\\selenium\\webdriver\\remote\\webdriver.py:344\u001b[0m, in \u001b[0;36mWebDriver.execute\u001b[1;34m(self, driver_command, params)\u001b[0m\n\u001b[0;32m    342\u001b[0m response \u001b[39m=\u001b[39m \u001b[39mself\u001b[39m\u001b[39m.\u001b[39mcommand_executor\u001b[39m.\u001b[39mexecute(driver_command, params)\n\u001b[0;32m    343\u001b[0m \u001b[39mif\u001b[39;00m response:\n\u001b[1;32m--> 344\u001b[0m     \u001b[39mself\u001b[39;49m\u001b[39m.\u001b[39;49merror_handler\u001b[39m.\u001b[39;49mcheck_response(response)\n\u001b[0;32m    345\u001b[0m     response[\u001b[39m\"\u001b[39m\u001b[39mvalue\u001b[39m\u001b[39m\"\u001b[39m] \u001b[39m=\u001b[39m \u001b[39mself\u001b[39m\u001b[39m.\u001b[39m_unwrap_value(response\u001b[39m.\u001b[39mget(\u001b[39m\"\u001b[39m\u001b[39mvalue\u001b[39m\u001b[39m\"\u001b[39m, \u001b[39mNone\u001b[39;00m))\n\u001b[0;32m    346\u001b[0m     \u001b[39mreturn\u001b[39;00m response\n",
      "File \u001b[1;32mc:\\Users\\uriel\\anaconda3\\envs\\edson-app\\lib\\site-packages\\selenium\\webdriver\\remote\\errorhandler.py:229\u001b[0m, in \u001b[0;36mErrorHandler.check_response\u001b[1;34m(self, response)\u001b[0m\n\u001b[0;32m    227\u001b[0m         alert_text \u001b[39m=\u001b[39m value[\u001b[39m\"\u001b[39m\u001b[39malert\u001b[39m\u001b[39m\"\u001b[39m]\u001b[39m.\u001b[39mget(\u001b[39m\"\u001b[39m\u001b[39mtext\u001b[39m\u001b[39m\"\u001b[39m)\n\u001b[0;32m    228\u001b[0m     \u001b[39mraise\u001b[39;00m exception_class(message, screen, stacktrace, alert_text)  \u001b[39m# type: ignore[call-arg]  # mypy is not smart enough here\u001b[39;00m\n\u001b[1;32m--> 229\u001b[0m \u001b[39mraise\u001b[39;00m exception_class(message, screen, stacktrace)\n",
      "\u001b[1;31mNoSuchElementException\u001b[0m: Message: no such element: Unable to locate element: {\"method\":\"tag name\",\"selector\":\"span\"}\n  (Session info: chrome=117.0.5938.89); For documentation on this error, please visit: https://www.selenium.dev/documentation/webdriver/troubleshooting/errors#no-such-element-exception\nStacktrace:\n\tGetHandleVerifier [0x00007FF6C54478A2+54818]\n\t(No symbol) [0x00007FF6C53B6AD2]\n\t(No symbol) [0x00007FF6C526DA3B]\n\t(No symbol) [0x00007FF6C52AE4FC]\n\t(No symbol) [0x00007FF6C52AE67C]\n\t(No symbol) [0x00007FF6C52A50FC]\n\t(No symbol) [0x00007FF6C52CEAEF]\n\t(No symbol) [0x00007FF6C52A5036]\n\t(No symbol) [0x00007FF6C52CECC0]\n\t(No symbol) [0x00007FF6C52E75A2]\n\t(No symbol) [0x00007FF6C52CE883]\n\t(No symbol) [0x00007FF6C52A3691]\n\t(No symbol) [0x00007FF6C52A48D4]\n\tGetHandleVerifier [0x00007FF6C57AB9A2+3610402]\n\tGetHandleVerifier [0x00007FF6C5801870+3962352]\n\tGetHandleVerifier [0x00007FF6C57F9D5F+3930847]\n\tGetHandleVerifier [0x00007FF6C54E3656+693206]\n\t(No symbol) [0x00007FF6C53C1638]\n\t(No symbol) [0x00007FF6C53BD944]\n\t(No symbol) [0x00007FF6C53BDA72]\n\t(No symbol) [0x00007FF6C53AE123]\n\tBaseThreadInitThunk [0x00007FFBCFE87614+20]\n\tRtlUserThreadStart [0x00007FFBD04C26B1+33]\n"
     ]
    }
   ],
   "source": [
    "# Americanas\n",
    "\n",
    "americanas_df = {\n",
    "    \"name\": [],\n",
    "    \"debit_price\": [],\n",
    "    \"credit_price\": []\n",
    "}\n",
    "\n",
    "driver = webdriver.Chrome()\n",
    "wait = WebDriverWait(driver, poll_frequency=2, timeout=5)\n",
    "\n",
    "sc = \"notebook intel i5 RAM 4gb\".replace(\" \", \"-\")\n",
    "rc = \"notebook intel i5 RAM 4gb\".replace(\" \", \"+\")\n",
    "\n",
    "driver.get(f\"https://www.americanas.com.br/busca/{sc}?rc={rc}\")\n",
    "\n",
    "element = driver.find_element(By.XPATH, '//*[@id=\"rsyswpsdk\"]/div/main/div/div[3]')\n",
    "wait.until(lambda a: element.is_displayed())\n",
    "\n",
    "elms = element.find_elements(By.CLASS_NAME, 'iRvjrG')\n",
    "\n",
    "for elm in elms:\n",
    "    try:\n",
    "        americanas_df[\"name\"].append(elm.find_element(By.CLASS_NAME, 'gUjFDF').get_attribute('innerHTML'))\n",
    "        americanas_df[\"debit_price\"].append(elm.find_element(By.CLASS_NAME, 'JbUli').get_attribute('innerHTML'))\n",
    "        americanas_df[\"credit_price\"].append(elm.find_element(By.CLASS_NAME, 'liXDNM').get_attribute('innerHTML'))\n",
    "    except:\n",
    "        print(\"Erro\")\n",
    "        continue\n",
    "\n",
    "driver.quit()"
   ]
  },
  {
   "cell_type": "code",
   "execution_count": null,
   "metadata": {},
   "outputs": [],
   "source": []
  }
 ],
 "metadata": {
  "kernelspec": {
   "display_name": "edson-app",
   "language": "python",
   "name": "python3"
  },
  "language_info": {
   "codemirror_mode": {
    "name": "ipython",
    "version": 3
   },
   "file_extension": ".py",
   "mimetype": "text/x-python",
   "name": "python",
   "nbconvert_exporter": "python",
   "pygments_lexer": "ipython3",
   "version": "3.10.12"
  },
  "orig_nbformat": 4
 },
 "nbformat": 4,
 "nbformat_minor": 2
}
